{
 "cells": [
  {
   "cell_type": "markdown",
   "metadata": {},
   "source": [
    "# Analiza knjig\n",
    "V tej datoteki bom analizirala knjige, katerih podatke sem dobila na spletni strani Open Library.\n",
    "\n",
    "Najprej si oglejmo vse knjige in njihove podatke."
   ]
  },
  {
   "cell_type": "code",
   "execution_count": 21,
   "metadata": {},
   "outputs": [
    {
     "data": {
      "text/html": [
       "<div>\n",
       "<style scoped>\n",
       "    .dataframe tbody tr th:only-of-type {\n",
       "        vertical-align: middle;\n",
       "    }\n",
       "\n",
       "    .dataframe tbody tr th {\n",
       "        vertical-align: top;\n",
       "    }\n",
       "\n",
       "    .dataframe thead th {\n",
       "        text-align: right;\n",
       "    }\n",
       "</style>\n",
       "<table border=\"1\" class=\"dataframe\">\n",
       "  <thead>\n",
       "    <tr style=\"text-align: right;\">\n",
       "      <th></th>\n",
       "      <th>naslov</th>\n",
       "      <th>leto_izdaje</th>\n",
       "      <th>avtor</th>\n",
       "      <th>ocena</th>\n",
       "      <th>stevilo_ocen</th>\n",
       "    </tr>\n",
       "  </thead>\n",
       "  <tbody>\n",
       "    <tr>\n",
       "      <th>1</th>\n",
       "      <td>I Don't Love You Anymore</td>\n",
       "      <td>2020</td>\n",
       "      <td>Rithvik Singh</td>\n",
       "      <td>3.16</td>\n",
       "      <td>75</td>\n",
       "    </tr>\n",
       "    <tr>\n",
       "      <th>2</th>\n",
       "      <td>Verity</td>\n",
       "      <td>2018</td>\n",
       "      <td>Colleen Hoover</td>\n",
       "      <td>3.94</td>\n",
       "      <td>93</td>\n",
       "    </tr>\n",
       "    <tr>\n",
       "      <th>3</th>\n",
       "      <td>Thinking, fast and slow</td>\n",
       "      <td>2011</td>\n",
       "      <td>Daniel Kahneman</td>\n",
       "      <td>4.10</td>\n",
       "      <td>172</td>\n",
       "    </tr>\n",
       "    <tr>\n",
       "      <th>4</th>\n",
       "      <td>A Gentle Reminder</td>\n",
       "      <td>2020</td>\n",
       "      <td>Bianca Sparacino</td>\n",
       "      <td>3.94</td>\n",
       "      <td>118</td>\n",
       "    </tr>\n",
       "    <tr>\n",
       "      <th>5</th>\n",
       "      <td>A Good Girl's Guide to Murder</td>\n",
       "      <td>2019</td>\n",
       "      <td>Holly Jackson</td>\n",
       "      <td>4.14</td>\n",
       "      <td>80</td>\n",
       "    </tr>\n",
       "    <tr>\n",
       "      <th>...</th>\n",
       "      <td>...</td>\n",
       "      <td>...</td>\n",
       "      <td>...</td>\n",
       "      <td>...</td>\n",
       "      <td>...</td>\n",
       "    </tr>\n",
       "    <tr>\n",
       "      <th>980</th>\n",
       "      <td>The six pillars of self-esteem</td>\n",
       "      <td>1994</td>\n",
       "      <td>Nathaniel Branden</td>\n",
       "      <td>4.82</td>\n",
       "      <td>11</td>\n",
       "    </tr>\n",
       "    <tr>\n",
       "      <th>981</th>\n",
       "      <td>Everything, Everything</td>\n",
       "      <td>2015</td>\n",
       "      <td>Nicola Yoon</td>\n",
       "      <td>4.28</td>\n",
       "      <td>29</td>\n",
       "    </tr>\n",
       "    <tr>\n",
       "      <th>982</th>\n",
       "      <td>Monster</td>\n",
       "      <td>1999</td>\n",
       "      <td>Walter Dean Myers</td>\n",
       "      <td>3.94</td>\n",
       "      <td>18</td>\n",
       "    </tr>\n",
       "    <tr>\n",
       "      <th>983</th>\n",
       "      <td>Memoirs of Sherlock Holmes [11 stories]</td>\n",
       "      <td>1893</td>\n",
       "      <td>Arthur Conan Doyle</td>\n",
       "      <td>4.44</td>\n",
       "      <td>16</td>\n",
       "    </tr>\n",
       "    <tr>\n",
       "      <th>984</th>\n",
       "      <td>Carmilla</td>\n",
       "      <td>1871</td>\n",
       "      <td>Joseph Sheridan Le Fanu</td>\n",
       "      <td>3.91</td>\n",
       "      <td>45</td>\n",
       "    </tr>\n",
       "  </tbody>\n",
       "</table>\n",
       "<p>984 rows × 5 columns</p>\n",
       "</div>"
      ],
      "text/plain": [
       "                                      naslov  leto_izdaje  \\\n",
       "1                   I Don't Love You Anymore         2020   \n",
       "2                                     Verity         2018   \n",
       "3                    Thinking, fast and slow         2011   \n",
       "4                          A Gentle Reminder         2020   \n",
       "5              A Good Girl's Guide to Murder         2019   \n",
       "..                                       ...          ...   \n",
       "980           The six pillars of self-esteem         1994   \n",
       "981                   Everything, Everything         2015   \n",
       "982                                  Monster         1999   \n",
       "983  Memoirs of Sherlock Holmes [11 stories]         1893   \n",
       "984                                 Carmilla         1871   \n",
       "\n",
       "                       avtor  ocena  stevilo_ocen  \n",
       "1              Rithvik Singh   3.16            75  \n",
       "2             Colleen Hoover   3.94            93  \n",
       "3            Daniel Kahneman   4.10           172  \n",
       "4           Bianca Sparacino   3.94           118  \n",
       "5              Holly Jackson   4.14            80  \n",
       "..                       ...    ...           ...  \n",
       "980        Nathaniel Branden   4.82            11  \n",
       "981              Nicola Yoon   4.28            29  \n",
       "982        Walter Dean Myers   3.94            18  \n",
       "983       Arthur Conan Doyle   4.44            16  \n",
       "984  Joseph Sheridan Le Fanu   3.91            45  \n",
       "\n",
       "[984 rows x 5 columns]"
      ]
     },
     "execution_count": 21,
     "metadata": {},
     "output_type": "execute_result"
    }
   ],
   "source": [
    "import pandas as pd\n",
    "import matplotlib.pyplot as plt\n",
    "import seaborn as sns\n",
    "knjige = pd.read_csv(\"datoteka.csv\")\n",
    "knjige.index = knjige.index + 1\n",
    "knjige[\"naslov\"] = knjige[\"naslov\"].str.replace(\"&#39;\", \"'\")\n",
    "knjige"
   ]
  },
  {
   "cell_type": "markdown",
   "metadata": {},
   "source": [
    "Bolj zanimivo bi si jih bilo ogledati razvrščene po oceni."
   ]
  },
  {
   "cell_type": "code",
   "execution_count": 22,
   "metadata": {},
   "outputs": [
    {
     "data": {
      "text/html": [
       "<div>\n",
       "<style scoped>\n",
       "    .dataframe tbody tr th:only-of-type {\n",
       "        vertical-align: middle;\n",
       "    }\n",
       "\n",
       "    .dataframe tbody tr th {\n",
       "        vertical-align: top;\n",
       "    }\n",
       "\n",
       "    .dataframe thead th {\n",
       "        text-align: right;\n",
       "    }\n",
       "</style>\n",
       "<table border=\"1\" class=\"dataframe\">\n",
       "  <thead>\n",
       "    <tr style=\"text-align: right;\">\n",
       "      <th></th>\n",
       "      <th>naslov</th>\n",
       "      <th>leto_izdaje</th>\n",
       "      <th>avtor</th>\n",
       "      <th>ocena</th>\n",
       "      <th>stevilo_ocen</th>\n",
       "    </tr>\n",
       "  </thead>\n",
       "  <tbody>\n",
       "    <tr>\n",
       "      <th>930</th>\n",
       "      <td>How To Talk To Anyone</td>\n",
       "      <td>2021</td>\n",
       "      <td>Steve Robinson</td>\n",
       "      <td>5.00</td>\n",
       "      <td>2</td>\n",
       "    </tr>\n",
       "    <tr>\n",
       "      <th>887</th>\n",
       "      <td>A Touch of Darkness</td>\n",
       "      <td>2019</td>\n",
       "      <td>Scarlett St. Clair</td>\n",
       "      <td>5.00</td>\n",
       "      <td>4</td>\n",
       "    </tr>\n",
       "    <tr>\n",
       "      <th>430</th>\n",
       "      <td>The encyclopedia Americana 1958- Antartic</td>\n",
       "      <td>1958</td>\n",
       "      <td>Americana Corporation</td>\n",
       "      <td>5.00</td>\n",
       "      <td>11</td>\n",
       "    </tr>\n",
       "    <tr>\n",
       "      <th>730</th>\n",
       "      <td>Dotcom Secrets</td>\n",
       "      <td>2015</td>\n",
       "      <td>Russell Brunson</td>\n",
       "      <td>5.00</td>\n",
       "      <td>3</td>\n",
       "    </tr>\n",
       "    <tr>\n",
       "      <th>714</th>\n",
       "      <td>The way of the superior man</td>\n",
       "      <td>1997</td>\n",
       "      <td>David Deida</td>\n",
       "      <td>5.00</td>\n",
       "      <td>7</td>\n",
       "    </tr>\n",
       "    <tr>\n",
       "      <th>...</th>\n",
       "      <td>...</td>\n",
       "      <td>...</td>\n",
       "      <td>...</td>\n",
       "      <td>...</td>\n",
       "      <td>...</td>\n",
       "    </tr>\n",
       "    <tr>\n",
       "      <th>735</th>\n",
       "      <td>Things Have Gotten Worse Since We Last Spoke</td>\n",
       "      <td>2021</td>\n",
       "      <td>Eric Larocca</td>\n",
       "      <td>2.88</td>\n",
       "      <td>8</td>\n",
       "    </tr>\n",
       "    <tr>\n",
       "      <th>934</th>\n",
       "      <td>Good Vibes, Good Life</td>\n",
       "      <td>2020</td>\n",
       "      <td>Vex King</td>\n",
       "      <td>2.56</td>\n",
       "      <td>9</td>\n",
       "    </tr>\n",
       "    <tr>\n",
       "      <th>562</th>\n",
       "      <td>Everything I Know About Love</td>\n",
       "      <td>2018</td>\n",
       "      <td>Dolly Alderton</td>\n",
       "      <td>2.43</td>\n",
       "      <td>7</td>\n",
       "    </tr>\n",
       "    <tr>\n",
       "      <th>952</th>\n",
       "      <td>Without Merit</td>\n",
       "      <td>2017</td>\n",
       "      <td>Colleen Hoover</td>\n",
       "      <td>2.25</td>\n",
       "      <td>4</td>\n",
       "    </tr>\n",
       "    <tr>\n",
       "      <th>888</th>\n",
       "      <td>The Mountain Is You: Transforming Self-Sabotag...</td>\n",
       "      <td>2020</td>\n",
       "      <td>Brianna Wiest</td>\n",
       "      <td>2.25</td>\n",
       "      <td>4</td>\n",
       "    </tr>\n",
       "  </tbody>\n",
       "</table>\n",
       "<p>984 rows × 5 columns</p>\n",
       "</div>"
      ],
      "text/plain": [
       "                                                naslov  leto_izdaje  \\\n",
       "930                              How To Talk To Anyone         2021   \n",
       "887                                A Touch of Darkness         2019   \n",
       "430          The encyclopedia Americana 1958- Antartic         1958   \n",
       "730                                     Dotcom Secrets         2015   \n",
       "714                        The way of the superior man         1997   \n",
       "..                                                 ...          ...   \n",
       "735       Things Have Gotten Worse Since We Last Spoke         2021   \n",
       "934                              Good Vibes, Good Life         2020   \n",
       "562                       Everything I Know About Love         2018   \n",
       "952                                      Without Merit         2017   \n",
       "888  The Mountain Is You: Transforming Self-Sabotag...         2020   \n",
       "\n",
       "                     avtor  ocena  stevilo_ocen  \n",
       "930         Steve Robinson   5.00             2  \n",
       "887     Scarlett St. Clair   5.00             4  \n",
       "430  Americana Corporation   5.00            11  \n",
       "730        Russell Brunson   5.00             3  \n",
       "714            David Deida   5.00             7  \n",
       "..                     ...    ...           ...  \n",
       "735           Eric Larocca   2.88             8  \n",
       "934               Vex King   2.56             9  \n",
       "562         Dolly Alderton   2.43             7  \n",
       "952         Colleen Hoover   2.25             4  \n",
       "888          Brianna Wiest   2.25             4  \n",
       "\n",
       "[984 rows x 5 columns]"
      ]
     },
     "execution_count": 22,
     "metadata": {},
     "output_type": "execute_result"
    }
   ],
   "source": [
    "knjige_po_oceni = knjige.sort_values(\"ocena\", ascending=False)\n",
    "knjige_po_oceni"
   ]
  },
  {
   "cell_type": "markdown",
   "metadata": {},
   "source": [
    "Opazimo, da so na vrhu samo knjige z najvišjo možno oceno 5.0, ocenilo pa jih je dokaj malo ljudi. Tudi na dnu so knjige z manjšim številom ocen, zato se raje omejimo na knjige, ki so dobile vsaj 100 ocen."
   ]
  },
  {
   "cell_type": "code",
   "execution_count": 31,
   "metadata": {},
   "outputs": [
    {
     "data": {
      "text/html": [
       "<div>\n",
       "<style scoped>\n",
       "    .dataframe tbody tr th:only-of-type {\n",
       "        vertical-align: middle;\n",
       "    }\n",
       "\n",
       "    .dataframe tbody tr th {\n",
       "        vertical-align: top;\n",
       "    }\n",
       "\n",
       "    .dataframe thead th {\n",
       "        text-align: right;\n",
       "    }\n",
       "</style>\n",
       "<table border=\"1\" class=\"dataframe\">\n",
       "  <thead>\n",
       "    <tr style=\"text-align: right;\">\n",
       "      <th></th>\n",
       "      <th>naslov</th>\n",
       "      <th>leto_izdaje</th>\n",
       "      <th>avtor</th>\n",
       "      <th>ocena</th>\n",
       "      <th>stevilo_ocen</th>\n",
       "    </tr>\n",
       "  </thead>\n",
       "  <tbody>\n",
       "    <tr>\n",
       "      <th>143</th>\n",
       "      <td>Dog Man</td>\n",
       "      <td>2015</td>\n",
       "      <td>Dav Pilkey</td>\n",
       "      <td>4.59</td>\n",
       "      <td>107</td>\n",
       "    </tr>\n",
       "    <tr>\n",
       "      <th>438</th>\n",
       "      <td>The Way of Kings</td>\n",
       "      <td>2010</td>\n",
       "      <td>Brandon Sanderson</td>\n",
       "      <td>4.59</td>\n",
       "      <td>125</td>\n",
       "    </tr>\n",
       "    <tr>\n",
       "      <th>228</th>\n",
       "      <td>The Hitch Hiker's Guide to the Galaxy</td>\n",
       "      <td>1979</td>\n",
       "      <td>Douglas Adams</td>\n",
       "      <td>4.52</td>\n",
       "      <td>130</td>\n",
       "    </tr>\n",
       "    <tr>\n",
       "      <th>125</th>\n",
       "      <td>Cabin Fever</td>\n",
       "      <td>2007</td>\n",
       "      <td>Jeff Kinney</td>\n",
       "      <td>4.51</td>\n",
       "      <td>118</td>\n",
       "    </tr>\n",
       "    <tr>\n",
       "      <th>40</th>\n",
       "      <td>The Sea of Monsters</td>\n",
       "      <td>2005</td>\n",
       "      <td>Rick Riordan</td>\n",
       "      <td>4.49</td>\n",
       "      <td>138</td>\n",
       "    </tr>\n",
       "    <tr>\n",
       "      <th>...</th>\n",
       "      <td>...</td>\n",
       "      <td>...</td>\n",
       "      <td>...</td>\n",
       "      <td>...</td>\n",
       "      <td>...</td>\n",
       "    </tr>\n",
       "    <tr>\n",
       "      <th>175</th>\n",
       "      <td>Haunting Adeline</td>\n",
       "      <td>2021</td>\n",
       "      <td>H. D. Carlton</td>\n",
       "      <td>3.62</td>\n",
       "      <td>152</td>\n",
       "    </tr>\n",
       "    <tr>\n",
       "      <th>189</th>\n",
       "      <td>The Catcher in the Rye</td>\n",
       "      <td>1900</td>\n",
       "      <td>J. D. Salinger</td>\n",
       "      <td>3.60</td>\n",
       "      <td>322</td>\n",
       "    </tr>\n",
       "    <tr>\n",
       "      <th>611</th>\n",
       "      <td>The Man in the High Castle</td>\n",
       "      <td>1962</td>\n",
       "      <td>Philip K. Dick</td>\n",
       "      <td>3.56</td>\n",
       "      <td>105</td>\n",
       "    </tr>\n",
       "    <tr>\n",
       "      <th>272</th>\n",
       "      <td>Heart of Darkness</td>\n",
       "      <td>1899</td>\n",
       "      <td>Joseph Conrad</td>\n",
       "      <td>3.46</td>\n",
       "      <td>108</td>\n",
       "    </tr>\n",
       "    <tr>\n",
       "      <th>529</th>\n",
       "      <td>Atlas Shrugged</td>\n",
       "      <td>1936</td>\n",
       "      <td>Ayn Rand</td>\n",
       "      <td>3.32</td>\n",
       "      <td>100</td>\n",
       "    </tr>\n",
       "  </tbody>\n",
       "</table>\n",
       "<p>181 rows × 5 columns</p>\n",
       "</div>"
      ],
      "text/plain": [
       "                                    naslov  leto_izdaje              avtor  \\\n",
       "143                                Dog Man         2015         Dav Pilkey   \n",
       "438                       The Way of Kings         2010  Brandon Sanderson   \n",
       "228  The Hitch Hiker's Guide to the Galaxy         1979      Douglas Adams   \n",
       "125                            Cabin Fever         2007        Jeff Kinney   \n",
       "40                     The Sea of Monsters         2005       Rick Riordan   \n",
       "..                                     ...          ...                ...   \n",
       "175                       Haunting Adeline         2021      H. D. Carlton   \n",
       "189                 The Catcher in the Rye         1900     J. D. Salinger   \n",
       "611             The Man in the High Castle         1962     Philip K. Dick   \n",
       "272                      Heart of Darkness         1899      Joseph Conrad   \n",
       "529                         Atlas Shrugged         1936           Ayn Rand   \n",
       "\n",
       "     ocena  stevilo_ocen  \n",
       "143   4.59           107  \n",
       "438   4.59           125  \n",
       "228   4.52           130  \n",
       "125   4.51           118  \n",
       "40    4.49           138  \n",
       "..     ...           ...  \n",
       "175   3.62           152  \n",
       "189   3.60           322  \n",
       "611   3.56           105  \n",
       "272   3.46           108  \n",
       "529   3.32           100  \n",
       "\n",
       "[181 rows x 5 columns]"
      ]
     },
     "execution_count": 31,
     "metadata": {},
     "output_type": "execute_result"
    }
   ],
   "source": [
    "knjige[knjige.stevilo_ocen >= 100].sort_values(\"ocena\", ascending=False)"
   ]
  },
  {
   "cell_type": "markdown",
   "metadata": {},
   "source": [
    "Zanima me, ali je na seznamu vseh knjig (razvrščenih po oceni) Harry Potter and the Philosopher's Stone, ki je ena izmed mojih najljubših knjig. Če je, si oglejmo njene podatke."
   ]
  },
  {
   "cell_type": "code",
   "execution_count": 24,
   "metadata": {},
   "outputs": [
    {
     "data": {
      "text/html": [
       "<div>\n",
       "<style scoped>\n",
       "    .dataframe tbody tr th:only-of-type {\n",
       "        vertical-align: middle;\n",
       "    }\n",
       "\n",
       "    .dataframe tbody tr th {\n",
       "        vertical-align: top;\n",
       "    }\n",
       "\n",
       "    .dataframe thead th {\n",
       "        text-align: right;\n",
       "    }\n",
       "</style>\n",
       "<table border=\"1\" class=\"dataframe\">\n",
       "  <thead>\n",
       "    <tr style=\"text-align: right;\">\n",
       "      <th></th>\n",
       "      <th>naslov</th>\n",
       "      <th>leto_izdaje</th>\n",
       "      <th>avtor</th>\n",
       "      <th>ocena</th>\n",
       "      <th>stevilo_ocen</th>\n",
       "    </tr>\n",
       "  </thead>\n",
       "  <tbody>\n",
       "    <tr>\n",
       "      <th>288</th>\n",
       "      <td>Harry Potter and the Philosopher's Stone</td>\n",
       "      <td>1997</td>\n",
       "      <td>J. K. Rowling</td>\n",
       "      <td>4.25</td>\n",
       "      <td>741</td>\n",
       "    </tr>\n",
       "  </tbody>\n",
       "</table>\n",
       "</div>"
      ],
      "text/plain": [
       "                                       naslov  leto_izdaje          avtor  \\\n",
       "288  Harry Potter and the Philosopher's Stone         1997  J. K. Rowling   \n",
       "\n",
       "     ocena  stevilo_ocen  \n",
       "288   4.25           741  "
      ]
     },
     "execution_count": 24,
     "metadata": {},
     "output_type": "execute_result"
    }
   ],
   "source": [
    "knjigice = knjige_po_oceni.reset_index(drop=True)\n",
    "harry = knjigice.loc[knjigice[\"naslov\"] == \"Harry Potter and the Philosopher's Stone\"]\n",
    "harry"
   ]
  },
  {
   "cell_type": "markdown",
   "metadata": {},
   "source": [
    "Harry Potter and the Philosopher's Stone je torej 288. najboljše ocenjena knjiga, kar ni ravno najboljše mesto. Poglejmo, kako so razvrščeni ostali deli iz zbirke Harry Potter."
   ]
  },
  {
   "cell_type": "code",
   "execution_count": 35,
   "metadata": {},
   "outputs": [
    {
     "data": {
      "text/html": [
       "<div>\n",
       "<style scoped>\n",
       "    .dataframe tbody tr th:only-of-type {\n",
       "        vertical-align: middle;\n",
       "    }\n",
       "\n",
       "    .dataframe tbody tr th {\n",
       "        vertical-align: top;\n",
       "    }\n",
       "\n",
       "    .dataframe thead th {\n",
       "        text-align: right;\n",
       "    }\n",
       "</style>\n",
       "<table border=\"1\" class=\"dataframe\">\n",
       "  <thead>\n",
       "    <tr style=\"text-align: right;\">\n",
       "      <th></th>\n",
       "      <th>naslov</th>\n",
       "      <th>leto_izdaje</th>\n",
       "      <th>avtor</th>\n",
       "      <th>ocena</th>\n",
       "      <th>stevilo_ocen</th>\n",
       "    </tr>\n",
       "  </thead>\n",
       "  <tbody>\n",
       "    <tr>\n",
       "      <th>74</th>\n",
       "      <td>Harry Potter (series) 1-7</td>\n",
       "      <td>1999</td>\n",
       "      <td>J. K. Rowling</td>\n",
       "      <td>4.56</td>\n",
       "      <td>39</td>\n",
       "    </tr>\n",
       "    <tr>\n",
       "      <th>152</th>\n",
       "      <td>Harry Potter and the Half-Blood Prince</td>\n",
       "      <td>2005</td>\n",
       "      <td>J. K. Rowling</td>\n",
       "      <td>4.41</td>\n",
       "      <td>169</td>\n",
       "    </tr>\n",
       "    <tr>\n",
       "      <th>228</th>\n",
       "      <td>Harry Potter and the Order of the Phoenix</td>\n",
       "      <td>2003</td>\n",
       "      <td>J. K. Rowling</td>\n",
       "      <td>4.31</td>\n",
       "      <td>249</td>\n",
       "    </tr>\n",
       "    <tr>\n",
       "      <th>233</th>\n",
       "      <td>Harry Potter and the Goblet of Fire</td>\n",
       "      <td>1993</td>\n",
       "      <td>J. K. Rowling</td>\n",
       "      <td>4.31</td>\n",
       "      <td>245</td>\n",
       "    </tr>\n",
       "    <tr>\n",
       "      <th>240</th>\n",
       "      <td>Harry Potter and the Prisoner of Azkaban</td>\n",
       "      <td>1999</td>\n",
       "      <td>J. K. Rowling</td>\n",
       "      <td>4.30</td>\n",
       "      <td>516</td>\n",
       "    </tr>\n",
       "    <tr>\n",
       "      <th>251</th>\n",
       "      <td>Harry Potter and the Deathly Hallows</td>\n",
       "      <td>2007</td>\n",
       "      <td>J. K. Rowling</td>\n",
       "      <td>4.29</td>\n",
       "      <td>366</td>\n",
       "    </tr>\n",
       "    <tr>\n",
       "      <th>288</th>\n",
       "      <td>Harry Potter and the Philosopher's Stone</td>\n",
       "      <td>1997</td>\n",
       "      <td>J. K. Rowling</td>\n",
       "      <td>4.25</td>\n",
       "      <td>741</td>\n",
       "    </tr>\n",
       "    <tr>\n",
       "      <th>358</th>\n",
       "      <td>Harry Potter and the Chamber of Secrets</td>\n",
       "      <td>1998</td>\n",
       "      <td>J. K. Rowling</td>\n",
       "      <td>4.18</td>\n",
       "      <td>404</td>\n",
       "    </tr>\n",
       "    <tr>\n",
       "      <th>609</th>\n",
       "      <td>Harry Potter and the Cursed Child</td>\n",
       "      <td>2001</td>\n",
       "      <td>Jack Thorne</td>\n",
       "      <td>4.00</td>\n",
       "      <td>100</td>\n",
       "    </tr>\n",
       "  </tbody>\n",
       "</table>\n",
       "</div>"
      ],
      "text/plain": [
       "                                        naslov  leto_izdaje          avtor  \\\n",
       "74                   Harry Potter (series) 1-7         1999  J. K. Rowling   \n",
       "152     Harry Potter and the Half-Blood Prince         2005  J. K. Rowling   \n",
       "228  Harry Potter and the Order of the Phoenix         2003  J. K. Rowling   \n",
       "233        Harry Potter and the Goblet of Fire         1993  J. K. Rowling   \n",
       "240   Harry Potter and the Prisoner of Azkaban         1999  J. K. Rowling   \n",
       "251       Harry Potter and the Deathly Hallows         2007  J. K. Rowling   \n",
       "288   Harry Potter and the Philosopher's Stone         1997  J. K. Rowling   \n",
       "358    Harry Potter and the Chamber of Secrets         1998  J. K. Rowling   \n",
       "609          Harry Potter and the Cursed Child         2001    Jack Thorne   \n",
       "\n",
       "     ocena  stevilo_ocen  \n",
       "74    4.56            39  \n",
       "152   4.41           169  \n",
       "228   4.31           249  \n",
       "233   4.31           245  \n",
       "240   4.30           516  \n",
       "251   4.29           366  \n",
       "288   4.25           741  \n",
       "358   4.18           404  \n",
       "609   4.00           100  "
      ]
     },
     "execution_count": 35,
     "metadata": {},
     "output_type": "execute_result"
    }
   ],
   "source": [
    "vsi_harryji = knjigice[knjigice[\"naslov\"].str.contains(\"Harry Potter\")]\n",
    "vsi_harryji"
   ]
  },
  {
   "cell_type": "markdown",
   "metadata": {},
   "source": [
    "Najboljše ocenjena je kar cela zbirka, od posameznih delov pa je očitno najboljši Harry Potter and the Half-Blood Prince, najslabši pa Harry Potter and the Cursed Child, s čimer se popolnoma strinjam. Me pa preseneča, da je ta razlika tako velika.\n",
    "\n",
    "Na seznamu knjig, ki imajo vsaj 100 ocen, ni veliko knjig z nizkimi ocenami, zato bi lahko preverili, ali obstaja kakšna povezava med oceno in številom ocen. Naša hipoteza je torej, da so knjige z večjim številom ocen boljše ocenjene. Na grafu bom uporabila logaritemsko skalo za y os, da se bo boljše videlo."
   ]
  },
  {
   "cell_type": "code",
   "execution_count": 37,
   "metadata": {},
   "outputs": [
    {
     "data": {
      "text/plain": [
       "Text(0, 0.5, 'število ocen')"
      ]
     },
     "execution_count": 37,
     "metadata": {},
     "output_type": "execute_result"
    },
    {
     "data": {
      "image/png": "[encoded data removed]",
      "text/plain": [
       "<Figure size 640x480 with 1 Axes>"
      ]
     },
     "metadata": {},
     "output_type": "display_data"
    }
   ],
   "source": [
    "knjige.plot.scatter(\"ocena\", \"stevilo_ocen\", logy=True)\n",
    "plt.ylabel(\"število ocen\")"
   ]
  },
  {
   "cell_type": "markdown",
   "metadata": {},
   "source": [
    "Naša hipoteza ni bila pravilna. Na grafu je težko opaziti kakšno povezavo med oceno in številom ocen. Vidimo pa en krog podatkov okoli ocene 4 in števila ocen 70, kar sta najbrž najbolj pogosta podatka.\n",
    "\n",
    "Kakšno je torej povprečno število ocen, ki ga dobi knjiga?"
   ]
  },
  {
   "cell_type": "code",
   "execution_count": 26,
   "metadata": {},
   "outputs": [
    {
     "data": {
      "text/plain": [
       "69.21"
      ]
     },
     "execution_count": 26,
     "metadata": {},
     "output_type": "execute_result"
    }
   ],
   "source": [
    "round(float(knjige[\"stevilo_ocen\"].mean()),2)"
   ]
  },
  {
   "cell_type": "markdown",
   "metadata": {},
   "source": [
    "Oglejmo si še, koliko knjig ima kakšno oceno."
   ]
  },
  {
   "cell_type": "code",
   "execution_count": 46,
   "metadata": {},
   "outputs": [
    {
     "data": {
      "text/plain": [
       "Text(0, 0.5, 'število')"
      ]
     },
     "execution_count": 46,
     "metadata": {},
     "output_type": "execute_result"
    },
    {
     "data": {
      "image/png": "[encoded data removed]",
      "text/plain": [
       "<Figure size 640x480 with 1 Axes>"
      ]
     },
     "metadata": {},
     "output_type": "display_data"
    }
   ],
   "source": [
    "sns.histplot(knjige, x=\"ocena\", binwidth=0.2)\n",
    "plt.ylabel(\"število\")"
   ]
  },
  {
   "cell_type": "markdown",
   "metadata": {},
   "source": [
    "Na spletni strani je torej največ takih knjig, ki imajo oceno okoli 4.2. To je čisto smiselno, saj je njihov namen imeti tu zbrane vse knjige, začeli pa so z najbolj priljubljenimi. \n",
    "\n",
    "Zanimivo bi bilo tudi vedeti, katerega leta so bile te knjige izdane."
   ]
  },
  {
   "cell_type": "code",
   "execution_count": 51,
   "metadata": {},
   "outputs": [
    {
     "data": {
      "text/plain": [
       "Text(0, 0.5, 'število')"
      ]
     },
     "execution_count": 51,
     "metadata": {},
     "output_type": "execute_result"
    },
    {
     "data": {
      "image/png": "[encoded data removed]",
      "text/plain": [
       "<Figure size 640x480 with 1 Axes>"
      ]
     },
     "metadata": {},
     "output_type": "display_data"
    }
   ],
   "source": [
    "sns.histplot(knjige, x=\"leto_izdaje\", binwidth=30)\n",
    "plt.xlabel(\"leto izdaje\")\n",
    "plt.ylabel(\"število\")"
   ]
  },
  {
   "cell_type": "markdown",
   "metadata": {},
   "source": [
    "Poglejmo bolj od blizu to desno stran grafa z dodatno omejitvijo, da je knjiga izdana po letu 1800."
   ]
  },
  {
   "cell_type": "code",
   "execution_count": 53,
   "metadata": {},
   "outputs": [
    {
     "data": {
      "text/plain": [
       "Text(0, 0.5, 'število')"
      ]
     },
     "execution_count": 53,
     "metadata": {},
     "output_type": "execute_result"
    },
    {
     "data": {
      "image/png": "[encoded data removed]",
      "text/plain": [
       "<Figure size 640x480 with 1 Axes>"
      ]
     },
     "metadata": {},
     "output_type": "display_data"
    }
   ],
   "source": [
    "sns.histplot(knjige[knjige.leto_izdaje > 1800], x=\"leto_izdaje\", binwidth=10)\n",
    "plt.xlabel(\"leto izdaje\")\n",
    "plt.ylabel(\"število\")"
   ]
  },
  {
   "cell_type": "markdown",
   "metadata": {},
   "source": [
    "Izgleda, kot da je vsako naslednje leto izdano več knjig (z izjemo vrha okoli 1900).\n",
    "\n",
    "Poglejmo, kako se povprečne ocene spreminjajo glede na leto izdaje. Prikazala bom le knjige od leta 1970 naprej."
   ]
  },
  {
   "cell_type": "code",
   "execution_count": 65,
   "metadata": {},
   "outputs": [
    {
     "data": {
      "image/png": "[encoded data removed]",
      "text/plain": [
       "<Figure size 1200x700 with 1 Axes>"
      ]
     },
     "metadata": {},
     "output_type": "display_data"
    }
   ],
   "source": [
    "najnovejse_knjige = knjige[knjige[\"leto_izdaje\"] >= 1970]\n",
    "povprecna_ocena_po_letih = najnovejse_knjige.groupby(\"leto_izdaje\")[\"ocena\"].mean().reset_index()\n",
    "plt.figure(figsize=(12, 7))\n",
    "sns.barplot(povprecna_ocena_po_letih, x=\"leto_izdaje\", y=\"ocena\")\n",
    "plt.ylabel(\"povprečna ocena\")\n",
    "plt.xticks(rotation=45, fontsize=9)\n",
    "plt.show()"
   ]
  },
  {
   "cell_type": "markdown",
   "metadata": {},
   "source": [
    "Za konec si še oglejmo kaj o avtorjih, npr. kateri avtorji so napisali več knjig, ki so tukaj zbrane."
   ]
  },
  {
   "cell_type": "code",
   "execution_count": 68,
   "metadata": {},
   "outputs": [
    {
     "data": {
      "text/html": [
       "<div>\n",
       "<style scoped>\n",
       "    .dataframe tbody tr th:only-of-type {\n",
       "        vertical-align: middle;\n",
       "    }\n",
       "\n",
       "    .dataframe tbody tr th {\n",
       "        vertical-align: top;\n",
       "    }\n",
       "\n",
       "    .dataframe thead th {\n",
       "        text-align: right;\n",
       "    }\n",
       "</style>\n",
       "<table border=\"1\" class=\"dataframe\">\n",
       "  <thead>\n",
       "    <tr style=\"text-align: right;\">\n",
       "      <th></th>\n",
       "      <th>avtor</th>\n",
       "      <th>število_knjig</th>\n",
       "    </tr>\n",
       "  </thead>\n",
       "  <tbody>\n",
       "    <tr>\n",
       "      <th>528</th>\n",
       "      <td>Stephen King</td>\n",
       "      <td>32</td>\n",
       "    </tr>\n",
       "    <tr>\n",
       "      <th>472</th>\n",
       "      <td>Rick Riordan</td>\n",
       "      <td>18</td>\n",
       "    </tr>\n",
       "    <tr>\n",
       "      <th>115</th>\n",
       "      <td>Colleen Hoover</td>\n",
       "      <td>17</td>\n",
       "    </tr>\n",
       "    <tr>\n",
       "      <th>264</th>\n",
       "      <td>Jeff Kinney</td>\n",
       "      <td>16</td>\n",
       "    </tr>\n",
       "    <tr>\n",
       "      <th>502</th>\n",
       "      <td>Sarah J. Maas</td>\n",
       "      <td>9</td>\n",
       "    </tr>\n",
       "    <tr>\n",
       "      <th>...</th>\n",
       "      <td>...</td>\n",
       "      <td>...</td>\n",
       "    </tr>\n",
       "    <tr>\n",
       "      <th>578</th>\n",
       "      <td>Viktor E. Frankl</td>\n",
       "      <td>2</td>\n",
       "    </tr>\n",
       "    <tr>\n",
       "      <th>604</th>\n",
       "      <td>Όμηρος (Homer)</td>\n",
       "      <td>2</td>\n",
       "    </tr>\n",
       "    <tr>\n",
       "      <th>606</th>\n",
       "      <td>Лев Толстой</td>\n",
       "      <td>2</td>\n",
       "    </tr>\n",
       "    <tr>\n",
       "      <th>608</th>\n",
       "      <td>Фёдор Михайлович Достоевский</td>\n",
       "      <td>2</td>\n",
       "    </tr>\n",
       "    <tr>\n",
       "      <th>610</th>\n",
       "      <td>村上春樹</td>\n",
       "      <td>2</td>\n",
       "    </tr>\n",
       "  </tbody>\n",
       "</table>\n",
       "<p>146 rows × 2 columns</p>\n",
       "</div>"
      ],
      "text/plain": [
       "                            avtor  število_knjig\n",
       "528                  Stephen King             32\n",
       "472                  Rick Riordan             18\n",
       "115                Colleen Hoover             17\n",
       "264                   Jeff Kinney             16\n",
       "502                 Sarah J. Maas              9\n",
       "..                            ...            ...\n",
       "578              Viktor E. Frankl              2\n",
       "604                Όμηρος (Homer)              2\n",
       "606                   Лев Толстой              2\n",
       "608  Фёдор Михайлович Достоевский              2\n",
       "610                          村上春樹              2\n",
       "\n",
       "[146 rows x 2 columns]"
      ]
     },
     "execution_count": 68,
     "metadata": {},
     "output_type": "execute_result"
    }
   ],
   "source": [
    "stevilo_knjig_avtorja = knjige.groupby(\"avtor\").size().reset_index(name=\"število_knjig\")\n",
    "avtor_z_vec_knjigami = stevilo_knjig_avtorja[stevilo_knjig_avtorja[\"število_knjig\"] > 1]\n",
    "avtor_z_vec_knjigami.sort_values(\"število_knjig\", ascending=False)"
   ]
  },
  {
   "cell_type": "markdown",
   "metadata": {},
   "source": [
    "Stephen King je torej zelo popularen, saj je tukaj kar 32 njegovih knjig."
   ]
  }
 ],
 "metadata": {
  "kernelspec": {
   "display_name": "venv",
   "language": "python",
   "name": "python3"
  },
  "language_info": {
   "codemirror_mode": {
    "name": "ipython",
    "version": 3
   },
   "file_extension": ".py",
   "mimetype": "text/x-python",
   "name": "python",
   "nbconvert_exporter": "python",
   "pygments_lexer": "ipython3",
   "version": "3.10.11"
  }
 },
 "nbformat": 4,
 "nbformat_minor": 2
}
